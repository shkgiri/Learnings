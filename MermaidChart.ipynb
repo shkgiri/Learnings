{
 "cells": [
  {
   "cell_type": "code",
   "execution_count": 21,
   "metadata": {},
   "outputs": [
    {
     "data": {
      "text/html": [
       "<img src=\"https://mermaid.ink/img/CiAgICBnYW50dAogICAgdGl0bGUgUGxhbm5lZCBFeHBlbnNlIFZTIEN1cnJlbnQgRmluIFBvc2l0aW9uIEZvciAyMDI1CiAgICBkYXRlRm9ybWF0ICBZWVlZLU1NLURECiAgICBheGlzRm9ybWF0ICVCLSVZCiAgICB0aWNrSW50ZXJ2YWwgMW1vbnRoCiAgICAKICAgIHNlY3Rpb24gMSkgUFBGCiAgICAxNTAwMDAgOmFjdGl2ZSwgZTEsIDIwMjUtMS0wMSwgMzBkCiAgICAxMjAwMDA6ZG9uZSwgYTEsIDIwMjUtMS0wMSwgMjQuMGQKICAKICAgIHNlY3Rpb24gMikgQ2hpbGQgRWR1Y2F0aW9uCiAgICAxMDAwMDAgOmFjdGl2ZSwgZTEsIDIwMjUtMS0wMSwgMzBkCiAgICA4MDAwMDpkb25lLCBhMSwgMjAyNS0xLTAxLCAyNC4wZAogIAogICAgc2VjdGlvbiAzKSBNb250aGx5IEV4cGVuc2UKICAgIDMwMDAwMCA6YWN0aXZlLCBlMSwgMjAyNS0yLTAxLCAzMGQKICAgIDI1MDAwMDpkb25lLCBhMSwgMjAyNS0yLTAxLCAyNS4wZAogIAogICAgc2VjdGlvbiA0KSBSZW50L0hvbWVMbgogICAgNTAwMDAwIDphY3RpdmUsIGUxLCAyMDI1LTEtMDEsIDMwZAogICAgNDUwMDAwOmRvbmUsIGExLCAyMDI1LTEtMDEsIDI3LjBkCiAgCiAgICBzZWN0aW9uIDUpIFRyYXZlbCBhbmQgTWlzYwogICAgMjAwMDAwIDphY3RpdmUsIGUxLCAyMDI1LTItMDEsIDMwZAogICAgMTUwMDAwOmRvbmUsIGExLCAyMDI1LTItMDEsIDIyLjVkCiAg\"/>"
      ],
      "text/plain": [
       "<IPython.core.display.Image object>"
      ]
     },
     "metadata": {},
     "output_type": "display_data"
    },
    {
     "name": "stdout",
     "output_type": "stream",
     "text": [
      "You are 84.0 % Financially Prepared\n"
     ]
    }
   ],
   "source": [
    "## The code for generating my Financial Preparedness. \n",
    "\n",
    "import base64\n",
    "from IPython.display import Image, display\n",
    "import matplotlib.pyplot as plt\n",
    "import re\n",
    "import csv\n",
    "import requests\n",
    "\n",
    "##Generate mermaid code using class may be of help. Yet to develop\n",
    "\n",
    "\n",
    "#Export as list from Excel\n",
    "##Publish to Web as csv\n",
    "##https://docs.google.com/spreadsheets/d/e/2PACX-1vQIaRbgAen22hHQ3ScWZKieaRGE0C53yVrqu80TsaP8IBeIv6YZav0ZmGztjuMdrgdKo0_3r5E8TjJD/pub?output=csv\n",
    "https://docs.google.com/spreadsheets/d/1KVvIBh-0bp0WegGejUSW3o0w2vHfkugjQ7ZMvGgylRI/edit?usp=sharing",
    "\n",
    "\n",
    "listexcel=[]\n",
    "url=\"https://docs.google.com/spreadsheets/d/e/2PACX-1vQIaRbgAen22hHQ3ScWZKieaRGE0C53yVrqu80TsaP8IBeIv6YZav0ZmGztjuMdrgdKo0_3r5E8TjJD/pub?output=csv\"\n",
    "\n",
    "response = requests.get(url)\n",
    "\n",
    "reader = csv.reader(response.content.decode('utf-8').splitlines())\n",
    "for row in reader:\n",
    "    listexcel.append(row)\n",
    "\n",
    "response.close()\n",
    "\n",
    "\n",
    "MerStory = \"\"\"\n",
    "    section {no}) {Name}\n",
    "    {target} :active, e1, 2025-{prio}-01, 30d\n",
    "    {acheived}:done, a1, 2025-{prio}-01, {ach}d\n",
    "  \"\"\"\n",
    "prep1=0\n",
    "prep2=0\n",
    "temp_variable = \"\"\n",
    "for i in range(len(listexcel)):\n",
    "  #for j in range(len(listexcel[i])):\n",
    "  if (i >0):\n",
    "      ach= int(listexcel[i][2]) / int(listexcel[i][1]) * 30\n",
    "      temp_variable= temp_variable+re.sub(r\"{Name}\", str(listexcel[i][0]), MerStory)\n",
    "      temp_variable= re.sub(r\"{no}\", str(i), temp_variable)\n",
    "      temp_variable= re.sub(r\"{target}\", str(listexcel[i][1]), temp_variable)\n",
    "      temp_variable= re.sub(r\"{acheived}\", str(listexcel[i][2]), temp_variable)\n",
    "      temp_variable= re.sub(r\"{prio}\", str(listexcel[i][3]), temp_variable)\n",
    "      temp_variable= re.sub(r\"{ach}\", str(ach), temp_variable)\n",
    "      prep1 += int(listexcel[i][1])\n",
    "      prep2 += int(listexcel[i][2])\n",
    "      \n",
    "MerStory1=\"\"\"\n",
    "    gantt\n",
    "    title Planned Expense VS Current Fin Position For 2025\n",
    "    dateFormat  YYYY-MM-DD\n",
    "    axisFormat %B-%Y\n",
    "    tickInterval 1month\n",
    "    \"\"\"\n",
    "t1= MerStory1 + temp_variable\n",
    "def mm(graph):\n",
    "  graphbytes = graph.encode(\"ascii\")\n",
    "  base64_bytes = base64.b64encode(graphbytes)\n",
    "  base64_string = base64_bytes.decode(\"ascii\")\n",
    "  display(Image(url=\"https://mermaid.ink/img/\" + base64_string))\n",
    "\n",
    "mm(t1)\n",
    "print(\"You are\",(prep2/prep1)*100, \"% Financially Prepared\")"
   ]
  }
 ],
 "metadata": {
  "kernelspec": {
   "display_name": "Python 3",
   "language": "python",
   "name": "python3"
  },
  "language_info": {
   "codemirror_mode": {
    "name": "ipython",
    "version": 3
   },
   "file_extension": ".py",
   "mimetype": "text/x-python",
   "name": "python",
   "nbconvert_exporter": "python",
   "pygments_lexer": "ipython3",
   "version": "3.10.8"
  },
  "orig_nbformat": 4
 },
 "nbformat": 4,
 "nbformat_minor": 2
}
