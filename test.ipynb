{
 "cells": [
  {
   "cell_type": "code",
   "execution_count": 1,
   "metadata": {},
   "outputs": [
    {
     "name": "stdout",
     "output_type": "stream",
     "text": [
      "0\n",
      "But I don't want ANY spam!\n",
      "Spam Spam Spam Spam \n"
     ]
    }
   ],
   "source": [
    "spam_amount = 0\n",
    "print(spam_amount)\n",
    "\n",
    "# Ordering Spam, egg, Spam, Spam, bacon and Spam (4 more servings of Spam)\n",
    "spam_amount = spam_amount + 4\n",
    "\n",
    "if spam_amount > 0:\n",
    "    print(\"But I don't want ANY spam!\")\n",
    "\n",
    "viking_song = \"Spam \" * spam_amount\n",
    "print(viking_song)"
   ]
  },
  {
   "cell_type": "code",
   "execution_count": 3,
   "metadata": {},
   "outputs": [
    {
     "data": {
      "text/plain": [
       "float"
      ]
     },
     "execution_count": 3,
     "metadata": {},
     "output_type": "execute_result"
    }
   ],
   "source": [
    "type(123.34)"
   ]
  },
  {
   "cell_type": "code",
   "execution_count": null,
   "metadata": {},
   "outputs": [],
   "source": [
    "exp= 2**4\n",
    "print (\"exponenent example;  2**4 =\",exp) #exponent\n",
    "#Python follows PEMDAS - Parentheses, Exponents, Multiplication/Division, Addition/Subtraction.\n",
    "hat_height_cm = 25\n",
    "my_height_cm = 190\n",
    "# How tall am I, in meters, when wearing my hat?\n",
    "total_height_meters = hat_height_cm + my_height_cm / 100\n",
    "print(\"Wrong PEDMAS - Height in meters =\", total_height_meters)\n",
    "\n",
    "total_height_meters = (hat_height_cm + my_height_cm) / 100\n",
    "print(\"Correct Height in meters =\", total_height_meters)\n",
    "\n",
    "#Builtin functions\n",
    "print(min(1, 2, 3))\n",
    "print(max(1, 2, 3))\n",
    "# int, float, abs are other functions, help() is another fuction\n",
    "help(round(-2.01)) # this is equal to help(-2.1) ; meaning python always evaluate inside out. \n",
    "\n"
   ]
  },
  {
   "cell_type": "code",
   "execution_count": 31,
   "metadata": {},
   "outputs": [
    {
     "name": "stdout",
     "output_type": "stream",
     "text": [
      "20,8,60\n"
     ]
    }
   ],
   "source": [
    "##defining functions\n",
    "def least_difference(a=1, b=1, c=1):\n",
    "    diff1 = abs(a - b)\n",
    "    diff2 = abs(b - c)\n",
    "    diff3 = abs(a - c)\n",
    "    return min(diff1, diff2, diff3)\n",
    "print (least_difference (100,40,20), least_difference (10,40,2), least_difference (140,40,200), sep= ',')"
   ]
  },
  {
   "cell_type": "code",
   "execution_count": 37,
   "metadata": {},
   "outputs": [
    {
     "name": "stdout",
     "output_type": "stream",
     "text": [
      "Hello, Colin\n",
      "Hello, 1\n"
     ]
    }
   ],
   "source": [
    "def greet(who=\"Colin\"):\n",
    "    print(\"Hello,\", who)\n",
    "    \n",
    "greet()\n",
    "#greet(who=\"Kaggle\")\n",
    "# (In this case, we don't need to specify the name of the argument, because it's unambiguous.)\n",
    "greet(1)"
   ]
  },
  {
   "cell_type": "code",
   "execution_count": 47,
   "metadata": {},
   "outputs": [
    {
     "name": "stdout",
     "output_type": "stream",
     "text": [
      "5\n",
      "25\n"
     ]
    }
   ],
   "source": [
    "##calling funtion inside function\n",
    "def mult_by_five(x):\n",
    "    return 5 * x\n",
    "\n",
    "def call(fn, arg):\n",
    "    \"\"\"Call fn on arg\"\"\"\n",
    "    return fn(arg)\n",
    "print (call(mult_by_five,1), call(mult_by_five,call(mult_by_five,1)),sep='\\n')"
   ]
  },
  {
   "cell_type": "code",
   "execution_count": 11,
   "metadata": {},
   "outputs": [
    {
     "name": "stdout",
     "output_type": "stream",
     "text": [
      "0.0\n",
      "310.0\n"
     ]
    }
   ],
   "source": [
    "def round_to_two_places(num):\n",
    "    t1= round (num, ndigits=-1)\n",
    "    return t1\n",
    "\n",
    "print (round_to_two_places(3.14159))\n",
    "print (round_to_two_places(314.159)) ## when ndigit=-1 in return"
   ]
  },
  {
   "cell_type": "code",
   "execution_count": 48,
   "metadata": {},
   "outputs": [
    {
     "data": {
      "text/plain": [
       "1"
      ]
     },
     "execution_count": 48,
     "metadata": {},
     "output_type": "execute_result"
    }
   ],
   "source": [
    "def to_sma(shk1, shk2=3):\n",
    "    return shk1 % shk2\n",
    "def to_smash(total_candies, n_friends=3):\n",
    "    return total_candies % n_friends\n",
    "to_sma (91,3)\n",
    "#print( 13,key=to_smash)"
   ]
  },
  {
   "cell_type": "code",
   "execution_count": 21,
   "metadata": {},
   "outputs": [
    {
     "name": "stdout",
     "output_type": "stream",
     "text": [
      "3\n"
     ]
    }
   ],
   "source": [
    "t1 = 13 %5\n",
    "print (t1)"
   ]
  },
  {
   "cell_type": "code",
   "execution_count": 56,
   "metadata": {},
   "outputs": [
    {
     "name": "stdout",
     "output_type": "stream",
     "text": [
      "True\n"
     ]
    },
    {
     "data": {
      "text/plain": [
       "False"
      ]
     },
     "execution_count": 56,
     "metadata": {},
     "output_type": "execute_result"
    }
   ],
   "source": [
    "def can_run_for_president(age):\n",
    "    \"\"\"Can someone of the given age run for president in the US?\"\"\"\n",
    "    # The US Constitution says you must be at least 35 years old\n",
    "    return age >= 35\n",
    "print (can_run_for_president (37))\n",
    "\n",
    "#Also when comparison n == 2 and not n=2\n",
    "age = 37\n",
    "age == 36"
   ]
  },
  {
   "cell_type": "code",
   "execution_count": 63,
   "metadata": {},
   "outputs": [
    {
     "name": "stdout",
     "output_type": "stream",
     "text": [
      "-1\n"
     ]
    }
   ],
   "source": [
    "#Booleann \n",
    "# prepared_for_weather = have_umbrella or (rain_level < 5 and have_hood) or not (rain_level > 0 and is_workday)\n",
    "#def f(x)\n",
    "if 0:\n",
    "    print(0)\n",
    "elif \"spam\":\n",
    "    print(-1)\n"
   ]
  },
  {
   "cell_type": "code",
   "execution_count": 65,
   "metadata": {},
   "outputs": [
    {
     "data": {
      "text/plain": [
       "True"
      ]
     },
     "execution_count": 65,
     "metadata": {},
     "output_type": "execute_result"
    }
   ],
   "source": [
    "def concise_is_negative(number):\n",
    "    pass # Your code goes here (try to keep it to one line!)\n",
    "    return number < 0\n",
    "concise_is_negative (-1)"
   ]
  },
  {
   "cell_type": "code",
   "execution_count": 1,
   "metadata": {},
   "outputs": [
    {
     "name": "stdout",
     "output_type": "stream",
     "text": [
      "528.0\n",
      "514.8\n"
     ]
    }
   ],
   "source": [
    "#Payment after tax with input num of hours, 15$ per hour, 12% tax\n",
    "def finalpay (h):\n",
    "    pretax= h*15\n",
    "    #tax=pretax*0.12\n",
    "    finalpay = pretax*(1-0.12)\n",
    "    return finalpay\n",
    "\n",
    "print (finalpay(40))\n",
    "print (finalpay(39))\n",
    "\n"
   ]
  },
  {
   "cell_type": "code",
   "execution_count": 27,
   "metadata": {},
   "outputs": [
    {
     "data": {
      "text/plain": [
       "514.8"
      ]
     },
     "execution_count": 27,
     "metadata": {},
     "output_type": "execute_result"
    }
   ],
   "source": [
    "def takehomePay (h,t,tx):\n",
    "    pretax = h*t\n",
    "    #pretax =hourlywage * hoursworked\n",
    "    #finalpay = pretax *12\n",
    "    finalpay = pretax * (1-(tx/100))\n",
    "    return finalpay\n",
    "\n",
    "takehomePay (15,39,12)"
   ]
  },
  {
   "cell_type": "code",
   "execution_count": 31,
   "metadata": {},
   "outputs": [
    {
     "name": "stdout",
     "output_type": "stream",
     "text": [
      "Fever!\n",
      "Normal temperature.\n"
     ]
    }
   ],
   "source": [
    "def evaluate_temp(temp):\n",
    "    # Set an initial message\n",
    "    message = \"Normal temperature.\"\n",
    "    # Update value of message only if temperature greater than 38\n",
    "    if temp > 38:\n",
    "        message = \"Fever!\"\n",
    "    return message\n",
    "\n",
    "print (evaluate_temp (39))\n",
    "print(evaluate_temp (37))"
   ]
  },
  {
   "cell_type": "code",
   "execution_count": 14,
   "metadata": {},
   "outputs": [
    {
     "name": "stdout",
     "output_type": "stream",
     "text": [
      "<class 'list'>\n",
      "[11, 7, 5, 3, 2]\n",
      "[2, 3, 5, 7, 11]\n"
     ]
    }
   ],
   "source": [
    "#Intro to List\n",
    "##Python has many data structures available for holding your data, such as lists, sets, dictionaries, and tuples\n",
    "#sorting a list in python\n",
    "prime_numbers = [11, 3, 7, 5, 2]\n",
    "prime_numbers1 = [11, 3, 7, 5, 2]\n",
    "print(type(prime_numbers))\n",
    "#help(list.sort)\n",
    "prime_numbers.sort(reverse=True)\n",
    "print(prime_numbers)\n",
    "t2=sorted(prime_numbers1)\n",
    "print(t2)"
   ]
  },
  {
   "cell_type": "code",
   "execution_count": 3,
   "metadata": {},
   "outputs": [
    {
     "data": {
      "text/plain": [
       "5"
      ]
     },
     "execution_count": 3,
     "metadata": {},
     "output_type": "execute_result"
    }
   ],
   "source": [
    "##Count vowels in a string\n",
    "## I will start with e \n",
    "def VowelCounter(x):\n",
    "    t=x.find(\"e\")\n",
    "    count =0\n",
    "    while t >0:\n",
    "        count=count+1\n",
    "        start=t+1\n",
    "        t1=x.find(\"e\",start)\n",
    "        t=t1\n",
    "    return count\n",
    "VowelCounter(\"heelloeeeoooo\")"
   ]
  },
  {
   "cell_type": "code",
   "execution_count": 5,
   "metadata": {},
   "outputs": [
    {
     "name": "stdout",
     "output_type": "stream",
     "text": [
      "Number of vowels are:\n",
      "7\n"
     ]
    }
   ],
   "source": [
    "## A simple script taken from diffrent sources.\n",
    "\n",
    "string=input(\"Enter string:\")\n",
    "vowels=0\n",
    "for i in string:\n",
    "      if(i=='a' or i=='e' or i=='i' or i=='o' or i=='u' or i=='A' or i=='E' or i=='I' or i=='O' or i=='U'):\n",
    "            vowels=vowels+1\n",
    "print(\"Number of vowels are:\")\n",
    "print(vowels)"
   ]
  },
  {
   "cell_type": "code",
   "execution_count": 6,
   "metadata": {},
   "outputs": [
    {
     "name": "stdout",
     "output_type": "stream",
     "text": [
      "You are financially prepared.\n"
     ]
    }
   ],
   "source": [
    "import datetime\n",
    "\n",
    "# Get the current date\n",
    "current_date = datetime.datetime.now()\n",
    "\n",
    "# Get the list of conditions\n",
    "conditions = [\"child education\", \"rent\", \"monthly expenses\", \"vacation\"]\n",
    "\n",
    "# Get the cost of each condition\n",
    "costs = []\n",
    "for condition in conditions:\n",
    "  costs.append(float(input(f\"What is the cost of {condition}? \")))\n",
    "\n",
    "# Calculate the total cost for the next year\n",
    "total_cost = sum(costs)\n",
    "\n",
    "# Calculate your monthly income\n",
    "monthly_income = float(input(\"What is your monthly income? \"))\n",
    "\n",
    "# Check if you are financially prepared\n",
    "if total_cost <= monthly_income:\n",
    "  print(\"You are financially prepared.\")\n",
    "else:\n",
    "  print(\"You are not financially prepared.\")\n",
    "  "
   ]
  },
  {
   "cell_type": "code",
   "execution_count": 43,
   "metadata": {},
   "outputs": [
    {
     "name": "stdout",
     "output_type": "stream",
     "text": [
      "250000\n",
      "Need to Acheive\n"
     ]
    }
   ],
   "source": [
    "#List learning\n",
    "#https://www.kaggle.com/code/colinmorris/lists\n",
    "#This is 2x2 list meaning colum and row ie it.\n",
    "# ['Planned Expense Name','Target','Current'] \n",
    "listexcel= [\n",
    "    ['Planned Expense Name','Target','Current'] ,\n",
    "    ['Child Education', 100000, 60000],\n",
    "    ['Shilpa PPF',150000,120000] \n",
    "    ]\n",
    "\n",
    "#listexcel [0][2]\n",
    "SumOfTarget = sum(row[1] for row in listexcel[1:])\n",
    "SumOfCurrent= sum(row[2] for row in listexcel[1:])\n",
    "print (SumOfTarget)\n",
    "if (SumOfCurrent != SumOfTarget):\n",
    "    print (\"Need to Acheive\")\n",
    "    "
   ]
  },
  {
   "cell_type": "code",
   "execution_count": 46,
   "metadata": {},
   "outputs": [
    {
     "data": {
      "text/html": [
       "<img src=\"https://mermaid.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\"/>"
      ],
      "text/plain": [
       "<IPython.core.display.Image object>"
      ]
     },
     "metadata": {},
     "output_type": "display_data"
    }
   ],
   "source": [
    "import base64\n",
    "from IPython.display import Image, display\n",
    "import matplotlib.pyplot as plt\n",
    "\n",
    "def mm(graph):\n",
    "  graphbytes = graph.encode(\"ascii\")\n",
    "  base64_bytes = base64.b64encode(graphbytes)\n",
    "  base64_string = base64_bytes.decode(\"ascii\")\n",
    "  display(Image(url=\"https://mermaid.ink/img/\" + base64_string))\n",
    "\n",
    "mm(\"\"\"\n",
    "gantt\n",
    "    title Planned Expense VS Current Fin Position For 2025\n",
    "    dateFormat  YYYY-MM-DD\n",
    "    axisFormat %B-%Y\n",
    "    tickInterval 1month\n",
    "    section 1) Minnus Education\n",
    "    1Lakh :active, e1, 2025-1-01, 30d\n",
    "    %%60,710   :done, a1, 2025-1-01, 15d\n",
    "    section 2) Shilpa PPF\n",
    "    1.5Lakhs :active, a1, 2025-1-01, 30d\n",
    "    %%1,18,508 :done, a1, 2025-1-01, 20d\n",
    "    section 3) Shankar PPF\n",
    "    1.5Lakhs :active, a1, 2025-01-01, 30d\n",
    "    %%1,18,508 :done, a1, 2025-01-01, 20d \n",
    "    section 4) Ammas Shraddam 10/20K\n",
    "    20K :active, a1, 2025-03-01, 30d\n",
    "    %%10,500:done, a1, 2025-03-01, 15d\n",
    "    section 5) Minnus 6th Birthday (0.5/50k)\n",
    "    50,000 :active, a1, 2025-2-01, 30d\n",
    "    %%515 :done, a1, 2025-02-01, 1d\n",
    "    section 6) Essential Upgrade (500/20K)\n",
    "    20K :active, a1, 2025-03-01, 30d\n",
    "    %%500 :done, a1, 2025-03-01, 3d\n",
    "    section 7) Vacation-SG\n",
    "    3Lakh :active, a1, 2025-02-01, 30d\n",
    "    %%1,93,896:done, a1, 2025-02-01, 20d\n",
    "    section 8) Life Insurance\n",
    "    35,000 :active, a1, 2025-3-01, 30d\n",
    "    %%36,106:done, a1, 2025-3-01, 30d\n",
    "    section 9) Car-6k (12-Dec-23) and 2Wheeler Insurance\n",
    "    10,000 :active, a1, 2025-2-01, 30d\n",
    "    500 :done, a1, 2025-2-01, 1d\n",
    "    section 10) Anniversary\n",
    "    20,000 :active, a1, 2025-04-01, 30d\n",
    "    %%28,097:done, a1, 2025-04-01, 30d\n",
    "    section 11) Ln\n",
    "    4.8Lakhs :active, a1, 2025-01-01, 30d\n",
    "    1:done, a1, 2025-01-01, 1d\n",
    "    section 12) Expense\n",
    "    2.4Lakhs :active, a1, 2025-02-01, 30d\n",
    "    1:done, a1, 2025-02-01, 1d\n",
    "    section 13) Rnt\n",
    "    4.8Lakhs :active, a1, 2025-01-01, 30d\n",
    "    1:done, a1, 2025-01-01, 1d\n",
    "    \n",
    "    section OVERALL BUDGET\n",
    "    8 Lakhs 45 Thousand (0/8.65)+7.2+4.8 Lakhs=>20.5L:crit, active, a1, 2025-01-01, 150d\n",
    "    %% No I wish created, this will be planned End of September\n",
    "\n",
    "\n",
    "\n",
    "\"\"\")"
   ]
  }
 ],
 "metadata": {
  "kernelspec": {
   "display_name": "Python 3",
   "language": "python",
   "name": "python3"
  },
  "language_info": {
   "codemirror_mode": {
    "name": "ipython",
    "version": 3
   },
   "file_extension": ".py",
   "mimetype": "text/x-python",
   "name": "python",
   "nbconvert_exporter": "python",
   "pygments_lexer": "ipython3",
   "version": "3.10.8"
  },
  "orig_nbformat": 4
 },
 "nbformat": 4,
 "nbformat_minor": 2
}
