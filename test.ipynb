{
 "cells": [
  {
   "cell_type": "code",
   "execution_count": 1,
   "metadata": {},
   "outputs": [
    {
     "name": "stdout",
     "output_type": "stream",
     "text": [
      "0\n",
      "But I don't want ANY spam!\n",
      "Spam Spam Spam Spam \n"
     ]
    }
   ],
   "source": [
    "spam_amount = 0\n",
    "print(spam_amount)\n",
    "\n",
    "# Ordering Spam, egg, Spam, Spam, bacon and Spam (4 more servings of Spam)\n",
    "spam_amount = spam_amount + 4\n",
    "\n",
    "if spam_amount > 0:\n",
    "    print(\"But I don't want ANY spam!\")\n",
    "\n",
    "viking_song = \"Spam \" * spam_amount\n",
    "print(viking_song)"
   ]
  },
  {
   "cell_type": "code",
   "execution_count": 3,
   "metadata": {},
   "outputs": [
    {
     "data": {
      "text/plain": [
       "float"
      ]
     },
     "execution_count": 3,
     "metadata": {},
     "output_type": "execute_result"
    }
   ],
   "source": [
    "type(123.34)"
   ]
  },
  {
   "cell_type": "code",
   "execution_count": null,
   "metadata": {},
   "outputs": [],
   "source": [
    "exp= 2**4\n",
    "print (\"exponenent example;  2**4 =\",exp) #exponent\n",
    "#Python follows PEMDAS - Parentheses, Exponents, Multiplication/Division, Addition/Subtraction.\n",
    "hat_height_cm = 25\n",
    "my_height_cm = 190\n",
    "# How tall am I, in meters, when wearing my hat?\n",
    "total_height_meters = hat_height_cm + my_height_cm / 100\n",
    "print(\"Wrong PEDMAS - Height in meters =\", total_height_meters)\n",
    "\n",
    "total_height_meters = (hat_height_cm + my_height_cm) / 100\n",
    "print(\"Correct Height in meters =\", total_height_meters)\n",
    "\n",
    "#Builtin functions\n",
    "print(min(1, 2, 3))\n",
    "print(max(1, 2, 3))\n",
    "# int, float, abs are other functions, help() is another fuction\n",
    "help(round(-2.01)) # this is equal to help(-2.1) ; meaning python always evaluate inside out. \n",
    "\n"
   ]
  },
  {
   "cell_type": "code",
   "execution_count": 31,
   "metadata": {},
   "outputs": [
    {
     "name": "stdout",
     "output_type": "stream",
     "text": [
      "20,8,60\n"
     ]
    }
   ],
   "source": [
    "##defining functions\n",
    "def least_difference(a=1, b=1, c=1):\n",
    "    diff1 = abs(a - b)\n",
    "    diff2 = abs(b - c)\n",
    "    diff3 = abs(a - c)\n",
    "    return min(diff1, diff2, diff3)\n",
    "print (least_difference (100,40,20), least_difference (10,40,2), least_difference (140,40,200), sep= ',')"
   ]
  },
  {
   "cell_type": "code",
   "execution_count": 37,
   "metadata": {},
   "outputs": [
    {
     "name": "stdout",
     "output_type": "stream",
     "text": [
      "Hello, Colin\n",
      "Hello, 1\n"
     ]
    }
   ],
   "source": [
    "def greet(who=\"Colin\"):\n",
    "    print(\"Hello,\", who)\n",
    "    \n",
    "greet()\n",
    "#greet(who=\"Kaggle\")\n",
    "# (In this case, we don't need to specify the name of the argument, because it's unambiguous.)\n",
    "greet(1)"
   ]
  },
  {
   "cell_type": "code",
   "execution_count": 47,
   "metadata": {},
   "outputs": [
    {
     "name": "stdout",
     "output_type": "stream",
     "text": [
      "5\n",
      "25\n"
     ]
    }
   ],
   "source": [
    "##calling funtion inside function\n",
    "def mult_by_five(x):\n",
    "    return 5 * x\n",
    "\n",
    "def call(fn, arg):\n",
    "    \"\"\"Call fn on arg\"\"\"\n",
    "    return fn(arg)\n",
    "print (call(mult_by_five,1), call(mult_by_five,call(mult_by_five,1)),sep='\\n')"
   ]
  },
  {
   "cell_type": "code",
   "execution_count": 11,
   "metadata": {},
   "outputs": [
    {
     "name": "stdout",
     "output_type": "stream",
     "text": [
      "0.0\n",
      "310.0\n"
     ]
    }
   ],
   "source": [
    "def round_to_two_places(num):\n",
    "    t1= round (num, ndigits=-1)\n",
    "    return t1\n",
    "\n",
    "print (round_to_two_places(3.14159))\n",
    "print (round_to_two_places(314.159)) ## when ndigit=-1 in return"
   ]
  },
  {
   "cell_type": "code",
   "execution_count": 48,
   "metadata": {},
   "outputs": [
    {
     "data": {
      "text/plain": [
       "1"
      ]
     },
     "execution_count": 48,
     "metadata": {},
     "output_type": "execute_result"
    }
   ],
   "source": [
    "def to_sma(shk1, shk2=3):\n",
    "    return shk1 % shk2\n",
    "def to_smash(total_candies, n_friends=3):\n",
    "    return total_candies % n_friends\n",
    "to_sma (91,3)\n",
    "#print( 13,key=to_smash)"
   ]
  },
  {
   "cell_type": "code",
   "execution_count": 21,
   "metadata": {},
   "outputs": [
    {
     "name": "stdout",
     "output_type": "stream",
     "text": [
      "3\n"
     ]
    }
   ],
   "source": [
    "t1 = 13 %5\n",
    "print (t1)"
   ]
  },
  {
   "cell_type": "code",
   "execution_count": 56,
   "metadata": {},
   "outputs": [
    {
     "name": "stdout",
     "output_type": "stream",
     "text": [
      "True\n"
     ]
    },
    {
     "data": {
      "text/plain": [
       "False"
      ]
     },
     "execution_count": 56,
     "metadata": {},
     "output_type": "execute_result"
    }
   ],
   "source": [
    "def can_run_for_president(age):\n",
    "    \"\"\"Can someone of the given age run for president in the US?\"\"\"\n",
    "    # The US Constitution says you must be at least 35 years old\n",
    "    return age >= 35\n",
    "print (can_run_for_president (37))\n",
    "\n",
    "#Also when comparison n == 2 and not n=2\n",
    "age = 37\n",
    "age == 36"
   ]
  },
  {
   "cell_type": "code",
   "execution_count": 63,
   "metadata": {},
   "outputs": [
    {
     "name": "stdout",
     "output_type": "stream",
     "text": [
      "-1\n"
     ]
    }
   ],
   "source": [
    "#Booleann \n",
    "# prepared_for_weather = have_umbrella or (rain_level < 5 and have_hood) or not (rain_level > 0 and is_workday)\n",
    "#def f(x)\n",
    "if 0:\n",
    "    print(0)\n",
    "elif \"spam\":\n",
    "    print(-1)\n"
   ]
  },
  {
   "cell_type": "code",
   "execution_count": 65,
   "metadata": {},
   "outputs": [
    {
     "data": {
      "text/plain": [
       "True"
      ]
     },
     "execution_count": 65,
     "metadata": {},
     "output_type": "execute_result"
    }
   ],
   "source": [
    "def concise_is_negative(number):\n",
    "    pass # Your code goes here (try to keep it to one line!)\n",
    "    return number < 0\n",
    "concise_is_negative (-1)"
   ]
  },
  {
   "cell_type": "code",
   "execution_count": 1,
   "metadata": {},
   "outputs": [
    {
     "name": "stdout",
     "output_type": "stream",
     "text": [
      "528.0\n",
      "514.8\n"
     ]
    }
   ],
   "source": [
    "#Payment after tax with input num of hours, 15$ per hour, 12% tax\n",
    "def finalpay (h):\n",
    "    pretax= h*15\n",
    "    #tax=pretax*0.12\n",
    "    finalpay = pretax*(1-0.12)\n",
    "    return finalpay\n",
    "\n",
    "print (finalpay(40))\n",
    "print (finalpay(39))\n",
    "\n"
   ]
  },
  {
   "cell_type": "code",
   "execution_count": 27,
   "metadata": {},
   "outputs": [
    {
     "data": {
      "text/plain": [
       "514.8"
      ]
     },
     "execution_count": 27,
     "metadata": {},
     "output_type": "execute_result"
    }
   ],
   "source": [
    "def takehomePay (h,t,tx):\n",
    "    pretax = h*t\n",
    "    #pretax =hourlywage * hoursworked\n",
    "    #finalpay = pretax *12\n",
    "    finalpay = pretax * (1-(tx/100))\n",
    "    return finalpay\n",
    "\n",
    "takehomePay (15,39,12)"
   ]
  },
  {
   "cell_type": "code",
   "execution_count": 31,
   "metadata": {},
   "outputs": [
    {
     "name": "stdout",
     "output_type": "stream",
     "text": [
      "Fever!\n",
      "Normal temperature.\n"
     ]
    }
   ],
   "source": [
    "def evaluate_temp(temp):\n",
    "    # Set an initial message\n",
    "    message = \"Normal temperature.\"\n",
    "    # Update value of message only if temperature greater than 38\n",
    "    if temp > 38:\n",
    "        message = \"Fever!\"\n",
    "    return message\n",
    "\n",
    "print (evaluate_temp (39))\n",
    "print(evaluate_temp (37))"
   ]
  },
  {
   "cell_type": "code",
   "execution_count": 14,
   "metadata": {},
   "outputs": [
    {
     "name": "stdout",
     "output_type": "stream",
     "text": [
      "<class 'list'>\n",
      "[11, 7, 5, 3, 2]\n",
      "[2, 3, 5, 7, 11]\n"
     ]
    }
   ],
   "source": [
    "#Intro to List\n",
    "##Python has many data structures available for holding your data, such as lists, sets, dictionaries, and tuples\n",
    "#sorting a list in python\n",
    "prime_numbers = [11, 3, 7, 5, 2]\n",
    "prime_numbers1 = [11, 3, 7, 5, 2]\n",
    "print(type(prime_numbers))\n",
    "#help(list.sort)\n",
    "prime_numbers.sort(reverse=True)\n",
    "print(prime_numbers)\n",
    "t2=sorted(prime_numbers1)\n",
    "print(t2)"
   ]
  },
  {
   "cell_type": "code",
   "execution_count": 3,
   "metadata": {},
   "outputs": [
    {
     "data": {
      "text/plain": [
       "5"
      ]
     },
     "execution_count": 3,
     "metadata": {},
     "output_type": "execute_result"
    }
   ],
   "source": [
    "##Count vowels in a string\n",
    "## I will start with e \n",
    "def VowelCounter(x):\n",
    "    t=x.find(\"e\")\n",
    "    count =0\n",
    "    while t >0:\n",
    "        count=count+1\n",
    "        start=t+1\n",
    "        t1=x.find(\"e\",start)\n",
    "        t=t1\n",
    "    return count\n",
    "VowelCounter(\"heelloeeeoooo\")"
   ]
  },
  {
   "cell_type": "code",
   "execution_count": 5,
   "metadata": {},
   "outputs": [
    {
     "name": "stdout",
     "output_type": "stream",
     "text": [
      "Number of vowels are:\n",
      "7\n"
     ]
    }
   ],
   "source": [
    "## A simple script taken from diffrent sources.\n",
    "\n",
    "string=input(\"Enter string:\")\n",
    "vowels=0\n",
    "for i in string:\n",
    "      if(i=='a' or i=='e' or i=='i' or i=='o' or i=='u' or i=='A' or i=='E' or i=='I' or i=='O' or i=='U'):\n",
    "            vowels=vowels+1\n",
    "print(\"Number of vowels are:\")\n",
    "print(vowels)"
   ]
  },
  {
   "cell_type": "code",
   "execution_count": 6,
   "metadata": {},
   "outputs": [
    {
     "name": "stdout",
     "output_type": "stream",
     "text": [
      "You are financially prepared.\n"
     ]
    }
   ],
   "source": [
    "import datetime\n",
    "\n",
    "# Get the current date\n",
    "current_date = datetime.datetime.now()\n",
    "\n",
    "# Get the list of conditions\n",
    "conditions = [\"child education\", \"rent\", \"monthly expenses\", \"vacation\"]\n",
    "\n",
    "# Get the cost of each condition\n",
    "costs = []\n",
    "for condition in conditions:\n",
    "  costs.append(float(input(f\"What is the cost of {condition}? \")))\n",
    "\n",
    "# Calculate the total cost for the next year\n",
    "total_cost = sum(costs)\n",
    "\n",
    "# Calculate your monthly income\n",
    "monthly_income = float(input(\"What is your monthly income? \"))\n",
    "\n",
    "# Check if you are financially prepared\n",
    "if total_cost <= monthly_income:\n",
    "  print(\"You are financially prepared.\")\n",
    "else:\n",
    "  print(\"You are not financially prepared.\")\n",
    "  "
   ]
  },
  {
   "cell_type": "code",
   "execution_count": 43,
   "metadata": {},
   "outputs": [
    {
     "name": "stdout",
     "output_type": "stream",
     "text": [
      "250000\n",
      "Need to Acheive\n"
     ]
    }
   ],
   "source": [
    "#List learning\n",
    "#https://www.kaggle.com/code/colinmorris/lists\n",
    "#This is 2x2 list meaning colum and row ie it.\n",
    "# ['Planned Expense Name','Target','Current'] \n",
    "listexcel= [\n",
    "    ['Planned Expense Name','Target','Current'] ,\n",
    "    ['Child Education', 100000, 60000],\n",
    "    ['Shilpa PPF',150000,120000] \n",
    "    ]\n",
    "\n",
    "#listexcel [0][2]\n",
    "SumOfTarget = sum(row[1] for row in listexcel[1:])\n",
    "SumOfCurrent= sum(row[2] for row in listexcel[1:])\n",
    "print (SumOfTarget)\n",
    "if (SumOfCurrent != SumOfTarget):\n",
    "    print (\"Need to Acheive\")\n",
    "    "
   ]
  },
  {
   "cell_type": "code",
   "execution_count": 2,
   "metadata": {},
   "outputs": [
    {
     "data": {
      "text/html": [
       "<img src=\"https://mermaid.ink/img/CiAgICBnYW50dAogICAgdGl0bGUgUGxhbm5lZCBFeHBlbnNlIFZTIEN1cnJlbnQgRmluIFBvc2l0aW9uIEZvciAyMDI1CiAgICBkYXRlRm9ybWF0ICBZWVlZLU1NLURECiAgICBheGlzRm9ybWF0ICVCLSVZCiAgICB0aWNrSW50ZXJ2YWwgMW1vbnRoCiAgICAKICAgIHNlY3Rpb24gMSkgUFBGCiAgICAxNTAwMDAgOmFjdGl2ZSwgZTEsIDIwMjUtMi0wMSwgMzBkCiAgICAxNDkwMDA6ZG9uZSwgYTEsIDIwMjUtMi0wMSwgMjkuNzk5OTk5OTk5OTk5OTk3ZAogIAogICAgc2VjdGlvbiAyKSBDaGlsZCBFZHVjYXRpb24KICAgIDEwMDAwMCA6YWN0aXZlLCBlMSwgMjAyNS0xLTAxLCAzMGQKICAgIDk5MDAwOmRvbmUsIGExLCAyMDI1LTEtMDEsIDI5LjdkCiAg\"/>"
      ],
      "text/plain": [
       "<IPython.core.display.Image object>"
      ]
     },
     "metadata": {},
     "output_type": "display_data"
    }
   ],
   "source": [
    "## The code for generating my Financial Preparedness. \n",
    "\n",
    "import base64\n",
    "from IPython.display import Image, display\n",
    "import matplotlib.pyplot as plt\n",
    "import re\n",
    "import csv\n",
    "import requests\n",
    "\n",
    "##Generate mermaid code using class may be of help. Yet to develop\n",
    "\n",
    "\n",
    "#Export as list from Excel\n",
    "##Publish to Web as csv\n",
    "##https://docs.google.com/spreadsheets/d/e/2PACX-1vQIaRbgAen22hHQ3ScWZKieaRGE0C53yVrqu80TsaP8IBeIv6YZav0ZmGztjuMdrgdKo0_3r5E8TjJD/pub?output=csv\n",
    "\n",
    "data = []\n",
    "listexcel=[]\n",
    "url=\"https://docs.google.com/spreadsheets/d/e/2PACX-1vQIaRbgAen22hHQ3ScWZKieaRGE0C53yVrqu80TsaP8IBeIv6YZav0ZmGztjuMdrgdKo0_3r5E8TjJD/pub?output=csv\"\n",
    "\n",
    "response = requests.get(url)\n",
    "\n",
    "reader = csv.reader(response.content.decode('utf-8').splitlines())\n",
    "for row in reader:\n",
    "    listexcel.append(row)\n",
    "\n",
    "response.close()\n",
    "\n",
    "\n",
    "MerStory = \"\"\"\n",
    "    section {no}) {Name}\n",
    "    {target} :active, e1, 2025-{prio}-01, 30d\n",
    "    {acheived}:done, a1, 2025-{prio}-01, {ach}d\n",
    "  \"\"\"\n",
    "temp_variable = \"\"\n",
    "for i in range(len(listexcel)):\n",
    "  #for j in range(len(listexcel[i])):\n",
    "  if (i >0):\n",
    "      ach= int(listexcel[i][2]) / int(listexcel[i][1]) * 30\n",
    "      temp_variable= temp_variable+re.sub(r\"{Name}\", str(listexcel[i][0]), MerStory)\n",
    "      temp_variable= re.sub(r\"{no}\", str(i), temp_variable)\n",
    "      temp_variable= re.sub(r\"{target}\", str(listexcel[i][1]), temp_variable)\n",
    "      temp_variable= re.sub(r\"{acheived}\", str(listexcel[i][2]), temp_variable)\n",
    "      temp_variable= re.sub(r\"{prio}\", str(listexcel[i][3]), temp_variable)\n",
    "      temp_variable= re.sub(r\"{ach}\", str(ach), temp_variable)\n",
    "      #We can also use .format() method. replace merstory with place holder. then merstory.format(no,name,target,test)\n",
    "      \n",
    "MerStory1=\"\"\"\n",
    "    gantt\n",
    "    title Planned Expense VS Current Fin Position For 2025\n",
    "    dateFormat  YYYY-MM-DD\n",
    "    axisFormat %B-%Y\n",
    "    tickInterval 1month\n",
    "    \"\"\"\n",
    "t1= MerStory1 + temp_variable\n",
    "def mm(graph):\n",
    "  graphbytes = graph.encode(\"ascii\")\n",
    "  base64_bytes = base64.b64encode(graphbytes)\n",
    "  base64_string = base64_bytes.decode(\"ascii\")\n",
    "  display(Image(url=\"https://mermaid.ink/img/\" + base64_string))\n",
    "mm(t1)"
   ]
  },
  {
   "cell_type": "code",
   "execution_count": 11,
   "metadata": {},
   "outputs": [
    {
     "name": "stdout",
     "output_type": "stream",
     "text": [
      "hihihi\n",
      "1\n",
      "1\n",
      "my fav num is 1 . x = 1\n",
      "my fav num is 1. x = 1\n",
      "111\n",
      "3\n",
      "shkshkshkshkshk\n"
     ]
    }
   ],
   "source": [
    "##MIT OCW Branching and iteration Learn\n",
    "test='hi'\n",
    "test3=test*3\n",
    "print (test3)\n",
    "x = 1\n",
    "print(x)\n",
    "x_str = str(x)\n",
    "print (x_str)\n",
    "print(\"my fav num is\", x, \".\", \"x =\", x)\n",
    "print(\"my fav num is \" + x_str + \". \" + \"x = \" + x_str)\n",
    "t=x_str *3\n",
    "t1=x*3\n",
    "print(t)\n",
    "print (t1)\n",
    "####Input and Output\n",
    "t3=input(\"what is your name\")\n",
    "print (5*t3)"
   ]
  },
  {
   "cell_type": "code",
   "execution_count": 22,
   "metadata": {},
   "outputs": [
    {
     "name": "stdout",
     "output_type": "stream",
     "text": [
      "False\n",
      "False\n",
      "True\n"
     ]
    }
   ],
   "source": [
    "#------\n",
    "pset_time = 15\n",
    "sleep_time = 8\n",
    "print(sleep_time > pset_time)\n",
    "#--------\n",
    "derive = False\n",
    "drink = True\n",
    "drink1 = True\n",
    "both = drink and derive\n",
    "both1 = drink and drink1\n",
    "print(both) # meaning (false and True) gives false and only True and True gives True.\n",
    "print(both1)\n"
   ]
  },
  {
   "cell_type": "code",
   "execution_count": 41,
   "metadata": {},
   "outputs": [
    {
     "name": "stdout",
     "output_type": "stream",
     "text": [
      "You got out of the Lost Forest!\n"
     ]
    }
   ],
   "source": [
    "n = input(\"You're in the Lost Forest. Go left or right? \")\n",
    "while n == \"right\":\n",
    "  n = input(\"You're in the Lost Forest. Go left or right? \")\n",
    "print(\"You got out of the Lost Forest!\")\n"
   ]
  },
  {
   "cell_type": "code",
   "execution_count": 51,
   "metadata": {},
   "outputs": [
    {
     "name": "stdout",
     "output_type": "stream",
     "text": [
      "0\n",
      "1\n",
      "2\n",
      "3\n",
      "4\n",
      "###########\n",
      "3\n",
      "4\n"
     ]
    }
   ],
   "source": [
    "n = 0\n",
    "while n < 5:\n",
    "    print(n)\n",
    "    n = n+1\n",
    "print (\"###########\")\n",
    "n=3\n",
    "for n in range(3,5,1): #Start,stop, step\n",
    " print(n)\n",
    "\n"
   ]
  },
  {
   "cell_type": "code",
   "execution_count": 53,
   "metadata": {},
   "outputs": [
    {
     "name": "stdout",
     "output_type": "stream",
     "text": [
      "5\n",
      "10\n",
      "15\n",
      "20\n",
      "25\n",
      "30\n",
      "35\n",
      "40\n",
      "45\n",
      "50\n"
     ]
    }
   ],
   "source": [
    "## Build a table of 5 till 50--think eg 5,10,15 etc\n",
    "for t in range (5,51,5):\n",
    "   print (t)"
   ]
  },
  {
   "cell_type": "code",
   "execution_count": 69,
   "metadata": {},
   "outputs": [
    {
     "name": "stdout",
     "output_type": "stream",
     "text": [
      "5\n",
      "12\n",
      "21\n"
     ]
    }
   ],
   "source": [
    "mysum = 0\n",
    "for i in range(5, 11, 2):\n",
    "    mysum += i\n",
    "    print(mysum) #i value = 5,7,9 then 0+5=5, 5+i=>7=12, 12+i=>9=21"
   ]
  },
  {
   "cell_type": "code",
   "execution_count": 77,
   "metadata": {},
   "outputs": [
    {
     "name": "stdout",
     "output_type": "stream",
     "text": [
      "5\n"
     ]
    }
   ],
   "source": [
    "mysum = 0\n",
    "for i in range(5, 11, 2):\n",
    "    mysum += i\n",
    "    if mysum == 5:\n",
    "     break ### Here is the Break it will abruptly break the entire FOR loop but not the program\n",
    "     mysum += 1\n",
    "    print(mysum) \n",
    "print (mysum)  "
   ]
  },
  {
   "cell_type": "code",
   "execution_count": 88,
   "metadata": {},
   "outputs": [
    {
     "name": "stdout",
     "output_type": "stream",
     "text": [
      "Yello\n"
     ]
    }
   ],
   "source": [
    "## playing with strings, slice and dice\n",
    "name= \"SHANKAR\"\n",
    "name[0]\n",
    "name[-1]\n",
    "#slice using start,stop, step, eg write for SHK\n",
    "name[0:2]+name[-3]\n",
    "hi=\"hello\"\n",
    "colour='Y'+hi[1:len(hi)]\n",
    "print(colour)"
   ]
  },
  {
   "cell_type": "code",
   "execution_count": 95,
   "metadata": {},
   "outputs": [
    {
     "name": "stdout",
     "output_type": "stream",
     "text": [
      "Number of vowel in how are you is 5\n"
     ]
    }
   ],
   "source": [
    "#Calculate number of vowel using for loop\n",
    "text=input(\"Enter any name\")\n",
    "v=0\n",
    "for i in range(len(text)):\n",
    "    if text[i]== \"a\" or text[i]== \"e\" or text[i]== \"i\" or text[i]== \"o\" or text[i]== \"u\":\n",
    "        v += 1\n",
    "print (\"Number of vowel in \" + text + \" is \"+str(v))"
   ]
  },
  {
   "cell_type": "code",
   "execution_count": 108,
   "metadata": {},
   "outputs": [
    {
     "name": "stdout",
     "output_type": "stream",
     "text": [
      "Common strings in shilpa and pragati is 4\n",
      "['i', 'p', 'a', 'a']\n"
     ]
    }
   ],
   "source": [
    "##Find common charecter in two string and Print\n",
    "s1= input(\"test\")\n",
    "s2=input(\"test\")\n",
    "Cchar=0\n",
    "s3=[]\n",
    "for i in range(len(s1)):\n",
    "    for j in range (len(s2)):\n",
    "        if s1[i] == s2[j] and s1[i] != \" \":\n",
    "            s3+=s2[j]\n",
    "            Cchar +=1\n",
    "print(\"Common strings in \"+ str(s1) + \" and \" + str(s2) + \" is \" + str(Cchar))\n",
    "print(s3)"
   ]
  },
  {
   "cell_type": "code",
   "execution_count": 1,
   "metadata": {},
   "outputs": [
    {
     "name": "stdout",
     "output_type": "stream",
     "text": [
      "['this', 'is', 'sentence.']\n"
     ]
    }
   ],
   "source": [
    "#####Program for common words we need function defenitions \n",
    "\n",
    "def common_words(sentence1, sentence2):\n",
    "  \"\"\"\n",
    "  Calculates the common words in two sentences.\n",
    "\n",
    "  Args:\n",
    "    sentence1: The first sentence.\n",
    "    sentence2: The second sentence.\n",
    "\n",
    "  Returns:\n",
    "    A list of common words.\n",
    "  \"\"\"\n",
    "\n",
    "  # Convert both sentences to lowercase.\n",
    "  sentence1 = sentence1.lower()\n",
    "  sentence2 = sentence2.lower()\n",
    "\n",
    "  # Split both sentences into a list of words.\n",
    "  words1 = sentence1.split()\n",
    "  words2 = sentence2.split()\n",
    "\n",
    "  # Find the intersection of the two lists of words.\n",
    "  common_words = set(words1).intersection(set(words2))\n",
    "\n",
    "  return list(common_words)\n",
    "\n",
    "sentence1 = \"This is a sentence.\"\n",
    "sentence2 = \"This is another sentence.\"\n",
    "\n",
    "common_words = common_words(sentence1, sentence2)\n",
    "\n",
    "print(common_words)"
   ]
  },
  {
   "cell_type": "code",
   "execution_count": 18,
   "metadata": {},
   "outputs": [
    {
     "name": "stdout",
     "output_type": "stream",
     "text": [
      "260\n",
      "377549.5237705326\n",
      "375000.0\n"
     ]
    }
   ],
   "source": [
    "##HouseHunting MIT \n",
    "#Variable Declaration -- this code is good but not calculated the returns. with intrest rate of 4% per year\n",
    "##https://ocw.mit.edu/courses/6-0001-introduction-to-computer-science-and-programming-in-python-fall-2016/resources/mit6_0001f16_ps1/\n",
    "total_cost=float(input(\"Totalcost\"))\n",
    "annual_salary=float(input(\"Annual sal\"))\n",
    "tosave=float(input(\"% will save in decimal\"))\n",
    "incr=float(input(\"% increment in decimal\"))\n",
    "portion_down_payment=0.25\n",
    "CS=0\n",
    "MSal =annual_salary/12\n",
    "##My thought\n",
    "TA=total_cost*portion_down_payment\n",
    "MonthlyIcan=MSal*tosave\n",
    "#for loop the current saving till toacumulate\n",
    "M=0\n",
    "while (CS<=TA):\n",
    "    M=M+1\n",
    "    if (M%6 == 0):\n",
    "        MSal=MSal*(1+incr)\n",
    "    sav=MSal*tosave\n",
    "    CS+= sav+(CS*.04/12) \n",
    "print(M)\n",
    "print(CS)\n",
    "print(TA)\n",
    "\n",
    "\n"
   ]
  },
  {
   "cell_type": "code",
   "execution_count": 75,
   "metadata": {},
   "outputs": [
    {
     "name": "stdout",
     "output_type": "stream",
     "text": [
      "1000.0\n",
      "1003.3333333333334\n",
      "1\n",
      "2006.6666666666667\n",
      "2\n",
      "3010.0\n",
      "3\n",
      "4013.3333333333335\n",
      "4\n",
      "5016.666666666667\n",
      "5\n",
      "6020.0\n",
      "6\n",
      "7023.333333333333\n",
      "7\n",
      "8026.666666666666\n",
      "8\n",
      "9030.0\n",
      "9\n",
      "10033.333333333334\n",
      "10\n",
      "11036.666666666668\n",
      "11\n",
      "12040.000000000002\n",
      "12\n",
      "13043.333333333336\n",
      "13\n",
      "14046.66666666667\n",
      "14\n",
      "15050.000000000004\n",
      "15\n",
      "16053.333333333338\n",
      "16\n",
      "17056.66666666667\n",
      "17\n",
      "18060.000000000004\n",
      "18\n",
      "19063.333333333336\n",
      "19\n",
      "20066.666666666668\n",
      "20\n",
      "21070.0\n",
      "21\n",
      "22073.333333333332\n",
      "22\n",
      "23076.666666666664\n",
      "23\n",
      "24079.999999999996\n",
      "24\n",
      "25083.33333333333\n",
      "25\n",
      "26086.66666666666\n",
      "26\n",
      "27089.999999999993\n",
      "27\n",
      "28093.333333333325\n",
      "28\n",
      "29096.666666666657\n",
      "29\n",
      "30099.99999999999\n",
      "30\n",
      "31103.33333333332\n",
      "31\n",
      "32106.666666666653\n",
      "32\n",
      "33109.999999999985\n",
      "33\n",
      "34113.33333333332\n",
      "34\n",
      "35116.66666666666\n",
      "35\n",
      "36119.99999999999\n",
      "36\n",
      "37123.33333333333\n",
      "37\n",
      "38126.666666666664\n",
      "38\n",
      "39130.0\n",
      "39\n",
      "40133.333333333336\n",
      "40\n",
      "41136.66666666667\n",
      "41\n",
      "42140.00000000001\n",
      "42\n",
      "43143.33333333334\n",
      "43\n",
      "44146.66666666668\n",
      "44\n",
      "45150.000000000015\n",
      "45\n",
      "46153.33333333335\n",
      "46\n",
      "47156.666666666686\n",
      "47\n",
      "48160.00000000002\n",
      "48\n",
      "49163.33333333336\n",
      "49\n",
      "50166.66666666669\n",
      "50\n",
      "51170.00000000003\n",
      "51\n",
      "52173.333333333365\n",
      "52\n",
      "53176.6666666667\n",
      "53\n",
      "54180.00000000004\n",
      "54\n",
      "55183.33333333337\n",
      "55\n",
      "56186.66666666671\n",
      "56\n",
      "57190.000000000044\n",
      "57\n",
      "58193.33333333338\n",
      "58\n",
      "59196.666666666715\n",
      "59\n",
      "60200.00000000005\n",
      "60\n",
      "61203.33333333339\n",
      "61\n",
      "62206.66666666672\n",
      "62\n",
      "63210.00000000006\n",
      "63\n",
      "64213.333333333394\n",
      "64\n",
      "65216.66666666673\n",
      "65\n",
      "66220.00000000006\n",
      "66\n",
      "67223.33333333339\n",
      "67\n",
      "68226.66666666672\n",
      "68\n",
      "69230.00000000004\n",
      "69\n",
      "70233.33333333337\n",
      "70\n",
      "71236.6666666667\n",
      "71\n",
      "72240.00000000003\n",
      "72\n",
      "73243.33333333336\n",
      "73\n",
      "74246.66666666669\n",
      "74\n",
      "75250.00000000001\n",
      "75\n",
      "76253.33333333334\n",
      "76\n",
      "77256.66666666667\n",
      "77\n",
      "78260.0\n",
      "78\n",
      "79263.33333333333\n",
      "79\n",
      "80266.66666666666\n",
      "80\n",
      "81269.99999999999\n",
      "81\n",
      "82273.33333333331\n",
      "82\n",
      "83276.66666666664\n",
      "83\n",
      "84279.99999999997\n",
      "84\n",
      "85283.3333333333\n",
      "85\n",
      "86286.66666666663\n",
      "86\n",
      "87289.99999999996\n",
      "87\n",
      "88293.33333333328\n",
      "88\n",
      "89296.66666666661\n",
      "89\n",
      "90299.99999999994\n",
      "90\n",
      "91303.33333333327\n",
      "91\n",
      "92306.6666666666\n",
      "92\n",
      "93309.99999999993\n",
      "93\n",
      "94313.33333333326\n",
      "94\n",
      "95316.66666666658\n",
      "95\n",
      "96319.99999999991\n",
      "96\n",
      "97323.33333333324\n",
      "97\n",
      "98326.66666666657\n",
      "98\n",
      "99329.9999999999\n",
      "99\n",
      "100333.33333333323\n",
      "100\n",
      "101336.66666666656\n",
      "101\n",
      "102339.99999999988\n",
      "102\n",
      "103343.33333333321\n",
      "103\n",
      "104346.66666666654\n",
      "104\n",
      "105349.99999999987\n",
      "105\n",
      "106353.3333333332\n",
      "106\n",
      "107356.66666666653\n",
      "107\n",
      "108359.99999999985\n",
      "108\n",
      "109363.33333333318\n",
      "109\n",
      "110366.66666666651\n",
      "110\n",
      "111369.99999999984\n",
      "111\n",
      "112373.33333333317\n",
      "112\n",
      "113376.6666666665\n",
      "113\n",
      "114379.99999999983\n",
      "114\n",
      "115383.33333333315\n",
      "115\n",
      "116386.66666666648\n",
      "116\n",
      "117389.99999999981\n",
      "117\n",
      "118393.33333333314\n",
      "118\n",
      "119396.66666666647\n",
      "119\n",
      "120399.9999999998\n",
      "120\n",
      "121403.33333333312\n",
      "121\n",
      "122406.66666666645\n",
      "122\n",
      "123409.99999999978\n",
      "123\n",
      "124413.33333333311\n",
      "124\n",
      "125416.66666666644\n",
      "125\n"
     ]
    },
    {
     "data": {
      "text/plain": [
       "125"
      ]
     },
     "execution_count": 75,
     "metadata": {},
     "output_type": "execute_result"
    }
   ],
   "source": [
    "#Ref to Problem set in the below link https://ocw.mit.edu/courses/6-0001-introduction-to-computer-science-and-programming-in-python-fall-2016/resources/mit6_0001f16_ps1/\n",
    "### Correct this code \n",
    "def getpaytime (total_cost,annual_salary,incr,savper):\n",
    "    TA=total_cost*.25\n",
    "    CS=0\n",
    "    intr=.04/12\n",
    "    MSal=annual_salary/12\n",
    "    Msav=MSal*savper\n",
    "    print (Msav)\n",
    "    M=0\n",
    "    while (CS<TA):\n",
    "        M=M+1\n",
    "        CS+=Msav*(1+intr)\n",
    "        print (CS)\n",
    "        print(M)\n",
    "        #Cs1=CS(1+)\n",
    "    return M\n",
    "\n",
    "#getpaytime(1000000,120000,0,0.1) # Not getting 183 geting 250 months\n",
    "getpaytime(500000,80000,0,.15) ##Getting 125 and not 105\n",
    "\n",
    "\n",
    "#getpaytime(1000000,120000,.1,0) #gettin 183 as expected\n",
    "#getpaytime (800000,80000,.1,.03) #It should 159, am getting 158 1 month diffrence. ##Solved Actually salary will increment only after 6th Month\n",
    "#getpaytime (1500000,76000,.05,.05) #correct\n",
    "\n",
    "\n"
   ]
  },
  {
   "cell_type": "code",
   "execution_count": 51,
   "metadata": {},
   "outputs": [
    {
     "name": "stdout",
     "output_type": "stream",
     "text": [
      "0.5555555555555556\n",
      "0.5192107995846313\n",
      "0.485243737929562\n",
      "0.45349882049491774\n",
      "0.4238306733597362\n",
      "0.3961034330464824\n",
      "Average:  0.44134626479297273\n",
      "0\n",
      "250000.0\n",
      "6944.444444444444\n",
      "12500.0\n",
      "You need to save 0.44134626479297273 % of salary to acheive in 36 Months\n"
     ]
    }
   ],
   "source": [
    "#Find the best rate of savings to acheive it in X Months\n",
    "def GetRateOfSaving (total_cost,annual_salary,incr,months):\n",
    "    portion_down_payment=0.25\n",
    "    CS=0\n",
    "    MSal =annual_salary/12\n",
    "    TA=total_cost*portion_down_payment\n",
    "    PerMonthTA=TA/months\n",
    "    PercentToSave=PerMonthTA/MSal\n",
    "    NoOfIncr =int(months/6) #6incr Every inc reduces the % to save\n",
    "    Tot=0\n",
    "    for i in range (NoOfIncr):\n",
    "        print (PercentToSave)\n",
    "        PercentToSave=PercentToSave/(1+incr)\n",
    "        Tot+=PercentToSave\n",
    "    Avg = Tot/NoOfIncr\n",
    "    print(\"Average: \", Avg)\n",
    "    print(CS)\n",
    "    print(TA)\n",
    "    print(PerMonthTA)\n",
    "    print(MSal)\n",
    "    if PercentToSave<1:\n",
    "        return (print (\"You need to save\", Avg, \"% of salary to acheive in 36 Months\"))\n",
    "    else : return (print (\"This is unachieivable\"))\n",
    "GetRateOfSaving (1000000,150000,.07,36)\n",
    "#GetRateOfSaving (1000000,300000,.07,36)\n",
    "#GetRateOfSaving (1000000,10000,.07,36)\n",
    "#GetRateOfSaving(4100000,2000000,0,36)\n"
   ]
  }
 ],
 "metadata": {
  "kernelspec": {
   "display_name": "Python 3",
   "language": "python",
   "name": "python3"
  },
  "language_info": {
   "codemirror_mode": {
    "name": "ipython",
    "version": 3
   },
   "file_extension": ".py",
   "mimetype": "text/x-python",
   "name": "python",
   "nbconvert_exporter": "python",
   "pygments_lexer": "ipython3",
   "version": "3.10.8"
  },
  "orig_nbformat": 4
 },
 "nbformat": 4,
 "nbformat_minor": 2
}
